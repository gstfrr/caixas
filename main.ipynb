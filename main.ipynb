{
 "cells": [
  {
   "cell_type": "markdown",
   "id": "83c11d326709350d",
   "metadata": {
    "collapsed": false,
    "jupyter": {
     "outputs_hidden": false
    }
   },
   "source": [
    "# Caixas"
   ]
  },
  {
   "cell_type": "markdown",
   "id": "b523641ceb7f80e6",
   "metadata": {},
   "source": [
    "Solution and Implementation by Augusto Ferreira\n",
    "\n",
    "Date: 2024/10/05"
   ]
  },
  {
   "cell_type": "markdown",
   "id": "a74cb4804bec9ca7",
   "metadata": {},
   "source": [
    "Import default libraries:"
   ]
  },
  {
   "cell_type": "code",
   "execution_count": 1,
   "id": "faaa8662-1856-45fa-aa45-31d23ea0e7fd",
   "metadata": {
    "jupyter": {
     "is_executing": true
    }
   },
   "outputs": [],
   "source": [
    "import os\n",
    "import pandas as pd"
   ]
  },
  {
   "cell_type": "markdown",
   "id": "9d0e2b61-10ae-42fe-9f68-563996c00aa2",
   "metadata": {},
   "source": [
    "Import created library"
   ]
  },
  {
   "cell_type": "code",
   "execution_count": 2,
   "id": "46a4029c-16d0-44bd-aedb-4e7d9c7b1e11",
   "metadata": {
    "jupyter": {
     "is_executing": true
    }
   },
   "outputs": [],
   "source": [
    "from domain.problem_data import ProblemData\n",
    "from domain.input_data import read_excel\n",
    "from milp_model.milp_model import Solver"
   ]
  },
  {
   "cell_type": "markdown",
   "id": "17bdb81572d04869",
   "metadata": {},
   "source": [
    "Create output path if not exists:"
   ]
  },
  {
   "cell_type": "code",
   "execution_count": 3,
   "id": "91b808ddf597c187",
   "metadata": {
    "jupyter": {
     "is_executing": true
    }
   },
   "outputs": [],
   "source": [
    "if not os.path.exists('output/'):\n",
    "    os.mkdir('output/')"
   ]
  },
  {
   "cell_type": "markdown",
   "id": "805a01ef47c90b76",
   "metadata": {},
   "source": [
    "### Input section\n",
    "Read and process input data:\n",
    "The read_excel function was implemented with @dataclass feature in Python. This makes it easier and practical to handle excel files conversion to classes.\n",
    "In the baisc_process function is created the domain classes used in the code to represent the entities used: Onda, Caixa, Item."
   ]
  },
  {
   "cell_type": "code",
   "execution_count": 4,
   "id": "956bc98c45a58272",
   "metadata": {
    "jupyter": {
     "is_executing": true
    }
   },
   "outputs": [
    {
     "name": "stdout",
     "output_type": "stream",
     "text": [
      "\n"
     ]
    }
   ],
   "source": [
    "input_name = 'input1'\n",
    "raw_data = read_excel(f'instances/{input_name}.xlsx')\n",
    "ProblemData.basic_process(raw_data)"
   ]
  },
  {
   "cell_type": "markdown",
   "id": "8dbcba19-0025-4312-b561-fcda2941138e",
   "metadata": {},
   "source": [
    "### Optimization section\n",
    "The optimization method chosed here is an exact method to solve the Integer Programming model (IP) formulated for the problem. \n",
    "The solver contains the basic strutcture:\n",
    "1. Create Model\n",
    "2. Add Variables\n",
    "3. Add Constraints\n",
    "4. Create Objective Function\n",
    "5. Optimize"
   ]
  },
  {
   "cell_type": "code",
   "execution_count": 5,
   "id": "bc16f6cd-79e9-4c77-821e-51c30b4befb6",
   "metadata": {},
   "outputs": [
    {
     "name": "stdout",
     "output_type": "stream",
     "text": [
      "Set parameter Username\n",
      "Academic license - for non-commercial use only - expires 2025-04-02\n",
      "Set parameter LogFile to value \"output/model-gurobi.log\"\n",
      "Set parameter DisplayInterval to value 1\n",
      "\tVariables creation time: 10.813211904998752 seconds (147750 variables)\n",
      "\tConstraints creation time: 4.600559462996898 seconds (167872 constraints)\n",
      "Set parameter TimeLimit to value 1200\n",
      "Removed 3350 unused variables\n",
      "Gurobi Optimizer version 11.0.3 build v11.0.3rc0 (mac64[x86] - Darwin 24.0.0 24A348)\n",
      "\n",
      "CPU model: Intel(R) Core(TM) i7-5650U CPU @ 2.20GHz\n",
      "Thread count: 2 physical cores, 4 logical processors, using up to 4 threads\n",
      "\n",
      "\n",
      "Warning: excessive time spent in model updates.\n",
      "Consider calling update less frequently.\n",
      "\n",
      "Optimize a model with 167872 rows, 144400 columns and 437350 nonzeros\n",
      "Model fingerprint: 0x3446bb3a\n",
      "Variable types: 0 continuous, 144400 integer (144400 binary)\n",
      "Coefficient statistics:\n",
      "  Matrix range     [1e+00, 1e+02]\n",
      "  Objective range  [5e-04, 5e-04]\n",
      "  Bounds range     [1e+00, 1e+00]\n",
      "  RHS range        [1e+00, 2e+03]\n",
      "Found heuristic solution: objective 1.1604676\n",
      "Presolve removed 137467 rows and 80300 columns\n",
      "Presolve time: 0.83s\n",
      "Presolved: 30405 rows, 64100 columns, 159200 nonzeros\n",
      "Variable types: 0 continuous, 64100 integer (64100 binary)\n",
      "\n",
      "Root simplex log...\n",
      "\n",
      "Iteration    Objective       Primal Inf.    Dual Inf.      Time\n",
      "       0    1.0000000e+00   0.000000e+00   0.000000e+00      1s\n",
      "\n",
      "Use crossover to convert LP symmetric solution to basic solution...\n",
      "\n",
      "Root crossover log...\n",
      "\n",
      "    4832 DPushes remaining with DInf 0.0000000e+00                 1s\n",
      "       0 DPushes remaining with DInf 0.0000000e+00                 1s\n",
      "\n",
      "   51923 PPushes remaining with PInf 0.0000000e+00                 1s\n",
      "       0 PPushes remaining with PInf 0.0000000e+00                 1s\n",
      "\n",
      "  Push phase complete: Pinf 0.0000000e+00, Dinf 0.0000000e+00      1s\n",
      "\n",
      "\n",
      "Root simplex log...\n",
      "\n",
      "Iteration    Objective       Primal Inf.    Dual Inf.      Time\n",
      "   54167    1.0000000e+00   0.000000e+00   0.000000e+00      1s\n",
      "\n",
      "Root relaxation: objective 1.000000e+00, 54167 iterations, 0.49 seconds (0.22 work units)\n",
      "\n",
      "    Nodes    |    Current Node    |     Objective Bounds      |     Work\n",
      " Expl Unexpl |  Obj  Depth IntInf | Incumbent    BestBd   Gap | It/Node Time\n",
      "\n",
      "H    0     0                       1.0000000    0.85282  14.7%     -    1s\n",
      "     0     0          -    0         1.00000    1.00000  0.00%     -    1s\n",
      "\n",
      "Explored 1 nodes (59415 simplex iterations) in 1.84 seconds (0.84 work units)\n",
      "Thread count was 4 (of 4 available processors)\n",
      "\n",
      "Solution count 2: 1 1.16047 \n",
      "\n",
      "Optimal solution found (tolerance 1.00e-04)\n",
      "Best objective 1.000000000000e+00, best bound 1.000000000000e+00, gap 0.0000%\n",
      "\n",
      "\n",
      "\tModel Objective Function: 1.000\n"
     ]
    }
   ],
   "source": [
    "solver = Solver('Caixas')\n",
    "\n",
    "solver.create_vars()\n",
    "solver.create_constraints()\n",
    "solver.create_objective_function()\n",
    "\n",
    "solver.optimize(timelimit=60 * 20)"
   ]
  },
  {
   "cell_type": "markdown",
   "id": "479096ef-e012-492f-9b6a-24a663faa2ac",
   "metadata": {},
   "source": [
    "The problem is a full combinatorial, which can be sometimes hard to solve with some heuristics. Usually for models like this, the Branch and Bound algorithm is used by most of commercial solvers. Each solver can implement some variation and techniques to improve the algorithm eficience. "
   ]
  },
  {
   "cell_type": "markdown",
   "id": "2bf8f07f-2e69-44cd-9ab9-45f0fc447a66",
   "metadata": {},
   "source": [
    "### Output section\n",
    "Create output from solver and save it in an excel sheets file:"
   ]
  },
  {
   "cell_type": "code",
   "execution_count": 6,
   "id": "d4a7133f-6aa7-494a-b08d-a3d4685ce05a",
   "metadata": {},
   "outputs": [
    {
     "name": "stdout",
     "output_type": "stream",
     "text": [
      "\n",
      "\n",
      "\tOutput writing started to output/solution_input1.xlsx...\n",
      "\tOutput written to output/solution_input1.xlsx in 1.0857190800015815 seconds\n"
     ]
    },
    {
     "data": {
      "text/plain": [
       "['Caixa-Onda', 'Item-Onda']"
      ]
     },
     "execution_count": 6,
     "metadata": {},
     "output_type": "execute_result"
    }
   ],
   "source": [
    "solver.log_solution(f'output/solution_{input_name}.xlsx')\n",
    "xl = pd.ExcelFile(\"output/solution_input1.xlsx\")\n",
    "xl.sheet_names"
   ]
  },
  {
   "cell_type": "code",
   "execution_count": 7,
   "id": "63648a78-fd9a-4a38-a258-4d43281992c4",
   "metadata": {},
   "outputs": [
    {
     "data": {
      "text/html": [
       "<div>\n",
       "<style scoped>\n",
       "    .dataframe tbody tr th:only-of-type {\n",
       "        vertical-align: middle;\n",
       "    }\n",
       "\n",
       "    .dataframe tbody tr th {\n",
       "        vertical-align: top;\n",
       "    }\n",
       "\n",
       "    .dataframe thead th {\n",
       "        text-align: right;\n",
       "    }\n",
       "</style>\n",
       "<table border=\"1\" class=\"dataframe\">\n",
       "  <thead>\n",
       "    <tr style=\"text-align: right;\">\n",
       "      <th></th>\n",
       "      <th>Onda</th>\n",
       "      <th>Caixa</th>\n",
       "    </tr>\n",
       "  </thead>\n",
       "  <tbody>\n",
       "    <tr>\n",
       "      <th>0</th>\n",
       "      <td>1</td>\n",
       "      <td>2403</td>\n",
       "    </tr>\n",
       "    <tr>\n",
       "      <th>1</th>\n",
       "      <td>1</td>\n",
       "      <td>2836</td>\n",
       "    </tr>\n",
       "    <tr>\n",
       "      <th>2</th>\n",
       "      <td>1</td>\n",
       "      <td>2835</td>\n",
       "    </tr>\n",
       "    <tr>\n",
       "      <th>3</th>\n",
       "      <td>1</td>\n",
       "      <td>2118</td>\n",
       "    </tr>\n",
       "    <tr>\n",
       "      <th>4</th>\n",
       "      <td>1</td>\n",
       "      <td>2119</td>\n",
       "    </tr>\n",
       "  </tbody>\n",
       "</table>\n",
       "</div>"
      ],
      "text/plain": [
       "   Onda  Caixa\n",
       "0     1   2403\n",
       "1     1   2836\n",
       "2     1   2835\n",
       "3     1   2118\n",
       "4     1   2119"
      ]
     },
     "execution_count": 7,
     "metadata": {},
     "output_type": "execute_result"
    }
   ],
   "source": [
    "df = xl.parse(\"Caixa-Onda\")\n",
    "df.head()"
   ]
  },
  {
   "cell_type": "code",
   "execution_count": 8,
   "id": "929530e8-406e-490a-bf41-f82b855700a4",
   "metadata": {},
   "outputs": [
    {
     "data": {
      "text/html": [
       "<div>\n",
       "<style scoped>\n",
       "    .dataframe tbody tr th:only-of-type {\n",
       "        vertical-align: middle;\n",
       "    }\n",
       "\n",
       "    .dataframe tbody tr th {\n",
       "        vertical-align: top;\n",
       "    }\n",
       "\n",
       "    .dataframe thead th {\n",
       "        text-align: right;\n",
       "    }\n",
       "</style>\n",
       "<table border=\"1\" class=\"dataframe\">\n",
       "  <thead>\n",
       "    <tr style=\"text-align: right;\">\n",
       "      <th></th>\n",
       "      <th>Onda</th>\n",
       "      <th>Item</th>\n",
       "    </tr>\n",
       "  </thead>\n",
       "  <tbody>\n",
       "    <tr>\n",
       "      <th>0</th>\n",
       "      <td>1</td>\n",
       "      <td>sku-1830</td>\n",
       "    </tr>\n",
       "    <tr>\n",
       "      <th>1</th>\n",
       "      <td>1</td>\n",
       "      <td>sku-0858</td>\n",
       "    </tr>\n",
       "    <tr>\n",
       "      <th>2</th>\n",
       "      <td>1</td>\n",
       "      <td>sku-1723</td>\n",
       "    </tr>\n",
       "    <tr>\n",
       "      <th>3</th>\n",
       "      <td>1</td>\n",
       "      <td>sku-1025</td>\n",
       "    </tr>\n",
       "    <tr>\n",
       "      <th>4</th>\n",
       "      <td>1</td>\n",
       "      <td>sku-0853</td>\n",
       "    </tr>\n",
       "  </tbody>\n",
       "</table>\n",
       "</div>"
      ],
      "text/plain": [
       "   Onda      Item\n",
       "0     1  sku-1830\n",
       "1     1  sku-0858\n",
       "2     1  sku-1723\n",
       "3     1  sku-1025\n",
       "4     1  sku-0853"
      ]
     },
     "execution_count": 8,
     "metadata": {},
     "output_type": "execute_result"
    }
   ],
   "source": [
    "df = xl.parse(\"Item-Onda\")\n",
    "df.head()"
   ]
  },
  {
   "cell_type": "code",
   "execution_count": null,
   "id": "62d8f8d0-8cd9-4bff-8156-3db6ddaac531",
   "metadata": {},
   "outputs": [],
   "source": []
  }
 ],
 "metadata": {
  "kernelspec": {
   "display_name": "Python 3 (ipykernel)",
   "language": "python",
   "name": "python3"
  },
  "language_info": {
   "codemirror_mode": {
    "name": "ipython",
    "version": 3
   },
   "file_extension": ".py",
   "mimetype": "text/x-python",
   "name": "python",
   "nbconvert_exporter": "python",
   "pygments_lexer": "ipython3",
   "version": "3.12.4"
  }
 },
 "nbformat": 4,
 "nbformat_minor": 5
}
